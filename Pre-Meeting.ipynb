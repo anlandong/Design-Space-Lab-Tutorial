{
 "cells": [
  {
   "cell_type": "markdown",
   "id": "fd863659",
   "metadata": {},
   "source": [
    "# Getting Started With Python\n",
    "---\n",
    "**Table of Content**\n",
    "- Python Install Using Conda with Jupyter Notebook\n",
    "- Common data types\n",
    "- Useful data structures\n",
    "- Conditional Statement\n",
    "- Functions"
   ]
  },
  {
   "cell_type": "markdown",
   "id": "790be86b",
   "metadata": {},
   "source": [
    "# What is Python?"
   ]
  },
  {
   "cell_type": "markdown",
   "id": "8b2bd711",
   "metadata": {},
   "source": [
    "Practitioners view: Python = Python Syntax + Packages"
   ]
  },
  {
   "cell_type": "markdown",
   "id": "e1ab40db",
   "metadata": {},
   "source": [
    "## Python Versions\n",
    "Python is a continuous development project by Python Software Foundation(PSF). As a result, Python receives frequent updates and bug-fixes in terms of different versions available to public. The current stable release is Python 3.10.7. There are versions newer than this, but it might not be as \"stable\" and subject to unseen bugs. There is also a legacy Python 2.7 for some legacy package users.   "
   ]
  },
  {
   "cell_type": "markdown",
   "id": "f5a290c0",
   "metadata": {},
   "source": [
    "## Python Packages"
   ]
  },
  {
   "cell_type": "markdown",
   "id": "9d620f1c",
   "metadata": {},
   "source": [
    "A Python package is a third-party-written package of codes bundled under a name. A package usually has a clearly defined purpose. The ability to use packages allows us to stand on the shoulder of giants, and greatly expand Python's capability while freeing us from having to write code and functions from scratch.\n",
    "\n",
    "Frequently Used Packages: \n",
    "- Matplotlib: visualization\n",
    "- Numpy: highly optimized arithmatic operation\n",
    "- SciPy: scientific computing\n",
    "- Pandas: manipulate table-like dataset\n",
    "- SciKit-Learn: machine learning package \n",
    "- Statsmodel: similar to Scikit-Learn, but focus on statistical testings"
   ]
  },
  {
   "cell_type": "markdown",
   "id": "ac47e4fb",
   "metadata": {},
   "source": [
    "# Installation\n",
    "Ready to install Python on your machine? Stop! Don't install Python without a virtual envirionment!"
   ]
  },
  {
   "cell_type": "markdown",
   "id": "e8491c45",
   "metadata": {},
   "source": [
    "## What is a virtual environment? \n",
    "A vitual environment is a Python version management framework that keeps track of all versions of Python and packages you installed. Anaconda, or 'conda', is one of the most popular framework that's available on Windows, Mac, and Linux.  "
   ]
  },
  {
   "cell_type": "markdown",
   "id": "e9d2de99",
   "metadata": {},
   "source": [
    "## Installing Anaconda  \n",
    "https://www.anaconda.com/"
   ]
  },
  {
   "cell_type": "markdown",
   "id": "115a32a9",
   "metadata": {},
   "source": [
    "## Creating a new environment:   \n",
    "``` conda create -n {*your_env_name*} ```"
   ]
  },
  {
   "cell_type": "markdown",
   "id": "ac62493d",
   "metadata": {},
   "source": [
    "## Activating a Conda environment:\n",
    "``` conda activate {*your_env_name*} ```"
   ]
  },
  {
   "cell_type": "markdown",
   "id": "8feed942",
   "metadata": {},
   "source": [
    "## Deactivate a Conda Environment\n",
    "``` conda deactivate ``` "
   ]
  },
  {
   "cell_type": "markdown",
   "id": "71d863c5",
   "metadata": {},
   "source": [
    "# What is Jupyter Notebook"
   ]
  },
  {
   "cell_type": "markdown",
   "id": "159b2e9b",
   "metadata": {},
   "source": [
    "Jupyter Notebook is a third-party package from Jupyter. It is a web application that allow real-time execution of Python code, as well as mark-down style annotation for readable Python exploratory work."
   ]
  },
  {
   "cell_type": "markdown",
   "id": "ea8ff6cd",
   "metadata": {},
   "source": [
    "## Installing Jupyter Notebook\n",
    "\n",
    "```conda install -c conda-forge notebook```  \n",
    "``` conda install -c conda-forge nb_conda_kernels```"
   ]
  },
  {
   "cell_type": "markdown",
   "id": "1ea2097e",
   "metadata": {},
   "source": [
    "## Notebook Extension\n",
    "```conda install -c conda-forge jupyter_contrib_nbextensions```"
   ]
  },
  {
   "cell_type": "markdown",
   "id": "112e415a",
   "metadata": {},
   "source": [
    "# Integrated Developing Environment (IDE)\n",
    "An IDE is a application that hosts development of any programming languange. An IDE is often specialized for one or two programming languages. Spyder is a popular IDE for using Python for data analytic tasks. Regardless of IDEs, when using Python with virtual environment, it is important to specify which Python you are using so that the IDE knows where to search for all the installed packages. "
   ]
  },
  {
   "cell_type": "markdown",
   "id": "09f9e6d4",
   "metadata": {},
   "source": [
    "# Data Types"
   ]
  },
  {
   "cell_type": "markdown",
   "id": "a883e5ee",
   "metadata": {},
   "source": [
    "## Integer"
   ]
  },
  {
   "cell_type": "code",
   "execution_count": 1,
   "id": "f28b67a1",
   "metadata": {
    "ExecuteTime": {
     "end_time": "2022-09-26T15:57:20.488770Z",
     "start_time": "2022-09-26T15:57:20.473820Z"
    }
   },
   "outputs": [
    {
     "data": {
      "text/plain": [
       "int"
      ]
     },
     "execution_count": 1,
     "metadata": {},
     "output_type": "execute_result"
    }
   ],
   "source": [
    "type(7)"
   ]
  },
  {
   "cell_type": "code",
   "execution_count": 2,
   "id": "96522a0e",
   "metadata": {
    "ExecuteTime": {
     "end_time": "2022-09-26T15:57:30.602390Z",
     "start_time": "2022-09-26T15:57:30.592424Z"
    }
   },
   "outputs": [],
   "source": [
    "a_num = 7"
   ]
  },
  {
   "cell_type": "code",
   "execution_count": 4,
   "id": "1605ba4a",
   "metadata": {
    "ExecuteTime": {
     "end_time": "2022-09-26T15:57:54.426560Z",
     "start_time": "2022-09-26T15:57:54.416594Z"
    }
   },
   "outputs": [
    {
     "name": "stdout",
     "output_type": "stream",
     "text": [
      "7\n"
     ]
    }
   ],
   "source": [
    "print(a_num)"
   ]
  },
  {
   "cell_type": "code",
   "execution_count": 56,
   "id": "7ba95368",
   "metadata": {
    "ExecuteTime": {
     "end_time": "2022-09-26T16:32:56.450062Z",
     "start_time": "2022-09-26T16:32:56.437106Z"
    }
   },
   "outputs": [
    {
     "data": {
      "text/plain": [
       "7"
      ]
     },
     "execution_count": 56,
     "metadata": {},
     "output_type": "execute_result"
    }
   ],
   "source": [
    "a_num"
   ]
  },
  {
   "cell_type": "markdown",
   "id": "8a85aedb",
   "metadata": {},
   "source": [
    "## Float"
   ]
  },
  {
   "cell_type": "code",
   "execution_count": 5,
   "id": "e8b06483",
   "metadata": {
    "ExecuteTime": {
     "end_time": "2022-09-26T15:58:08.071671Z",
     "start_time": "2022-09-26T15:58:08.056721Z"
    }
   },
   "outputs": [
    {
     "data": {
      "text/plain": [
       "float"
      ]
     },
     "execution_count": 5,
     "metadata": {},
     "output_type": "execute_result"
    }
   ],
   "source": [
    "type(2.3)"
   ]
  },
  {
   "cell_type": "code",
   "execution_count": 57,
   "id": "09e31751",
   "metadata": {
    "ExecuteTime": {
     "end_time": "2022-09-26T16:33:20.657392Z",
     "start_time": "2022-09-26T16:33:20.644436Z"
    }
   },
   "outputs": [
    {
     "data": {
      "text/plain": [
       "float"
      ]
     },
     "execution_count": 57,
     "metadata": {},
     "output_type": "execute_result"
    }
   ],
   "source": [
    "type(2.0)"
   ]
  },
  {
   "cell_type": "markdown",
   "id": "30b1a6ac",
   "metadata": {},
   "source": [
    "## String"
   ]
  },
  {
   "cell_type": "code",
   "execution_count": 6,
   "id": "55244990",
   "metadata": {
    "ExecuteTime": {
     "end_time": "2022-09-26T15:58:31.082402Z",
     "start_time": "2022-09-26T15:58:31.072436Z"
    }
   },
   "outputs": [
    {
     "data": {
      "text/plain": [
       "'This is a String'"
      ]
     },
     "execution_count": 6,
     "metadata": {},
     "output_type": "execute_result"
    }
   ],
   "source": [
    "\"This is a String\""
   ]
  },
  {
   "cell_type": "code",
   "execution_count": 5,
   "id": "6725f896",
   "metadata": {
    "ExecuteTime": {
     "end_time": "2022-09-26T17:43:57.706996Z",
     "start_time": "2022-09-26T17:43:57.699023Z"
    }
   },
   "outputs": [
    {
     "data": {
      "text/plain": [
       "16"
      ]
     },
     "execution_count": 5,
     "metadata": {},
     "output_type": "execute_result"
    }
   ],
   "source": [
    "a_string = \"This is a String\"\n",
    "a_string[4]\n",
    "len(a_string)"
   ]
  },
  {
   "cell_type": "code",
   "execution_count": 7,
   "id": "274e8609",
   "metadata": {
    "ExecuteTime": {
     "end_time": "2022-09-26T17:44:24.833734Z",
     "start_time": "2022-09-26T17:44:24.827754Z"
    }
   },
   "outputs": [
    {
     "data": {
      "text/plain": [
       "'This is a StringThis is another string'"
      ]
     },
     "execution_count": 7,
     "metadata": {},
     "output_type": "execute_result"
    }
   ],
   "source": [
    "b_string = \"This is another string\"\n",
    "a_string + b_string"
   ]
  },
  {
   "cell_type": "code",
   "execution_count": 8,
   "id": "c25898f7",
   "metadata": {
    "ExecuteTime": {
     "end_time": "2022-09-26T17:44:25.333488Z",
     "start_time": "2022-09-26T17:44:25.323521Z"
    }
   },
   "outputs": [
    {
     "data": {
      "text/plain": [
       "'This is a String This is another string'"
      ]
     },
     "execution_count": 8,
     "metadata": {},
     "output_type": "execute_result"
    }
   ],
   "source": [
    "a_string + ' ' + b_string"
   ]
  },
  {
   "cell_type": "code",
   "execution_count": 61,
   "id": "9f45a73a",
   "metadata": {
    "ExecuteTime": {
     "end_time": "2022-09-26T16:35:29.703656Z",
     "start_time": "2022-09-26T16:35:29.699640Z"
    }
   },
   "outputs": [
    {
     "data": {
      "text/plain": [
       "str"
      ]
     },
     "execution_count": 61,
     "metadata": {},
     "output_type": "execute_result"
    }
   ],
   "source": [
    "type('1234')"
   ]
  },
  {
   "cell_type": "markdown",
   "id": "34bace8d",
   "metadata": {},
   "source": [
    "## Boolean"
   ]
  },
  {
   "cell_type": "code",
   "execution_count": 11,
   "id": "8991d7be",
   "metadata": {
    "ExecuteTime": {
     "end_time": "2022-09-26T15:59:58.369356Z",
     "start_time": "2022-09-26T15:59:58.360385Z"
    }
   },
   "outputs": [
    {
     "data": {
      "text/plain": [
       "bool"
      ]
     },
     "execution_count": 11,
     "metadata": {},
     "output_type": "execute_result"
    }
   ],
   "source": [
    "type(True)"
   ]
  },
  {
   "cell_type": "code",
   "execution_count": 62,
   "id": "60c6268e",
   "metadata": {
    "ExecuteTime": {
     "end_time": "2022-09-26T16:35:55.749602Z",
     "start_time": "2022-09-26T16:35:55.731716Z"
    }
   },
   "outputs": [
    {
     "data": {
      "text/plain": [
       "True"
      ]
     },
     "execution_count": 62,
     "metadata": {},
     "output_type": "execute_result"
    }
   ],
   "source": [
    "type(1) == int"
   ]
  },
  {
   "cell_type": "code",
   "execution_count": 63,
   "id": "6d49f6aa",
   "metadata": {
    "ExecuteTime": {
     "end_time": "2022-09-26T16:36:05.899825Z",
     "start_time": "2022-09-26T16:36:05.883869Z"
    }
   },
   "outputs": [
    {
     "data": {
      "text/plain": [
       "False"
      ]
     },
     "execution_count": 63,
     "metadata": {},
     "output_type": "execute_result"
    }
   ],
   "source": [
    "type(1) == str"
   ]
  },
  {
   "cell_type": "code",
   "execution_count": 12,
   "id": "0291109e",
   "metadata": {
    "ExecuteTime": {
     "end_time": "2022-09-26T16:00:09.280542Z",
     "start_time": "2022-09-26T16:00:09.264595Z"
    }
   },
   "outputs": [
    {
     "data": {
      "text/plain": [
       "True"
      ]
     },
     "execution_count": 12,
     "metadata": {},
     "output_type": "execute_result"
    }
   ],
   "source": [
    "True == 1"
   ]
  },
  {
   "cell_type": "code",
   "execution_count": 13,
   "id": "11125bc8",
   "metadata": {
    "ExecuteTime": {
     "end_time": "2022-09-26T16:00:14.636466Z",
     "start_time": "2022-09-26T16:00:14.624506Z"
    }
   },
   "outputs": [
    {
     "data": {
      "text/plain": [
       "True"
      ]
     },
     "execution_count": 13,
     "metadata": {},
     "output_type": "execute_result"
    }
   ],
   "source": [
    "False == 0"
   ]
  },
  {
   "cell_type": "markdown",
   "id": "2e2bde2c",
   "metadata": {},
   "source": [
    "## Casting (type conversion)"
   ]
  },
  {
   "cell_type": "code",
   "execution_count": 9,
   "id": "7743d1fa",
   "metadata": {
    "ExecuteTime": {
     "end_time": "2022-09-26T17:46:19.850073Z",
     "start_time": "2022-09-26T17:46:19.835123Z"
    }
   },
   "outputs": [
    {
     "data": {
      "text/plain": [
       "'12342345'"
      ]
     },
     "execution_count": 9,
     "metadata": {},
     "output_type": "execute_result"
    }
   ],
   "source": [
    "'1234' + '2345'"
   ]
  },
  {
   "cell_type": "code",
   "execution_count": 10,
   "id": "492f8f62",
   "metadata": {
    "ExecuteTime": {
     "end_time": "2022-09-26T17:46:20.804912Z",
     "start_time": "2022-09-26T17:46:20.786469Z"
    }
   },
   "outputs": [
    {
     "data": {
      "text/plain": [
       "3579"
      ]
     },
     "execution_count": 10,
     "metadata": {},
     "output_type": "execute_result"
    }
   ],
   "source": [
    "int('1234') + int('2345')"
   ]
  },
  {
   "cell_type": "code",
   "execution_count": 64,
   "id": "04912f17",
   "metadata": {
    "ExecuteTime": {
     "end_time": "2022-09-26T16:37:57.445034Z",
     "start_time": "2022-09-26T16:37:57.436064Z"
    }
   },
   "outputs": [
    {
     "data": {
      "text/plain": [
       "'1234'"
      ]
     },
     "execution_count": 64,
     "metadata": {},
     "output_type": "execute_result"
    }
   ],
   "source": [
    "str(int('1234'))"
   ]
  },
  {
   "cell_type": "code",
   "execution_count": 66,
   "id": "afe2ef60",
   "metadata": {
    "ExecuteTime": {
     "end_time": "2022-09-26T16:38:09.117169Z",
     "start_time": "2022-09-26T16:38:09.100444Z"
    }
   },
   "outputs": [
    {
     "data": {
      "text/plain": [
       "1"
      ]
     },
     "execution_count": 66,
     "metadata": {},
     "output_type": "execute_result"
    }
   ],
   "source": [
    "int(1.0)"
   ]
  },
  {
   "cell_type": "markdown",
   "id": "0e794f3a",
   "metadata": {},
   "source": [
    "# Data Structures"
   ]
  },
  {
   "cell_type": "markdown",
   "id": "4e246eac",
   "metadata": {},
   "source": [
    "## List"
   ]
  },
  {
   "cell_type": "code",
   "execution_count": 12,
   "id": "e4191fc1",
   "metadata": {
    "ExecuteTime": {
     "end_time": "2022-09-26T17:47:54.183716Z",
     "start_time": "2022-09-26T17:47:54.179729Z"
    }
   },
   "outputs": [],
   "source": [
    "a_list_int = [1,2,3,4]"
   ]
  },
  {
   "cell_type": "code",
   "execution_count": 13,
   "id": "fc67c270",
   "metadata": {
    "ExecuteTime": {
     "end_time": "2022-09-26T17:47:54.356662Z",
     "start_time": "2022-09-26T17:47:54.346695Z"
    }
   },
   "outputs": [],
   "source": [
    "a_list_string = ['a','b','c','d']"
   ]
  },
  {
   "cell_type": "code",
   "execution_count": 14,
   "id": "b7652c41",
   "metadata": {
    "ExecuteTime": {
     "end_time": "2022-09-26T17:47:54.513365Z",
     "start_time": "2022-09-26T17:47:54.498414Z"
    }
   },
   "outputs": [],
   "source": [
    "a_list_list = [a_list_int, a_list_string]"
   ]
  },
  {
   "cell_type": "code",
   "execution_count": 15,
   "id": "aff8957c",
   "metadata": {
    "ExecuteTime": {
     "end_time": "2022-09-26T17:47:54.684846Z",
     "start_time": "2022-09-26T17:47:54.666907Z"
    }
   },
   "outputs": [
    {
     "data": {
      "text/plain": [
       "[[1, 2, 3, 4], ['a', 'b', 'c', 'd']]"
      ]
     },
     "execution_count": 15,
     "metadata": {},
     "output_type": "execute_result"
    }
   ],
   "source": [
    "a_list_list"
   ]
  },
  {
   "cell_type": "code",
   "execution_count": 16,
   "id": "bdea8902",
   "metadata": {
    "ExecuteTime": {
     "end_time": "2022-09-26T17:47:54.826715Z",
     "start_time": "2022-09-26T17:47:54.818741Z"
    }
   },
   "outputs": [
    {
     "data": {
      "text/plain": [
       "[1, 2, 3, 4]"
      ]
     },
     "execution_count": 16,
     "metadata": {},
     "output_type": "execute_result"
    }
   ],
   "source": [
    "a_list_int"
   ]
  },
  {
   "cell_type": "code",
   "execution_count": 17,
   "id": "73f6b691",
   "metadata": {
    "ExecuteTime": {
     "end_time": "2022-09-26T17:47:55.199912Z",
     "start_time": "2022-09-26T17:47:55.185959Z"
    }
   },
   "outputs": [
    {
     "data": {
      "text/plain": [
       "['a', 'b', 'c', 'd']"
      ]
     },
     "execution_count": 17,
     "metadata": {},
     "output_type": "execute_result"
    }
   ],
   "source": [
    "a_list_string"
   ]
  },
  {
   "cell_type": "code",
   "execution_count": 18,
   "id": "8ad35582",
   "metadata": {
    "ExecuteTime": {
     "end_time": "2022-09-26T17:47:56.304720Z",
     "start_time": "2022-09-26T17:47:56.290308Z"
    }
   },
   "outputs": [
    {
     "data": {
      "text/plain": [
       "'a'"
      ]
     },
     "execution_count": 18,
     "metadata": {},
     "output_type": "execute_result"
    }
   ],
   "source": [
    "a_list_string[0]"
   ]
  },
  {
   "cell_type": "code",
   "execution_count": 19,
   "id": "201cb9fb",
   "metadata": {
    "ExecuteTime": {
     "end_time": "2022-09-26T17:47:56.901020Z",
     "start_time": "2022-09-26T17:47:56.890057Z"
    }
   },
   "outputs": [
    {
     "data": {
      "text/plain": [
       "'b'"
      ]
     },
     "execution_count": 19,
     "metadata": {},
     "output_type": "execute_result"
    }
   ],
   "source": [
    "a_list_string[1]"
   ]
  },
  {
   "cell_type": "code",
   "execution_count": 20,
   "id": "de7f80f9",
   "metadata": {
    "ExecuteTime": {
     "end_time": "2022-09-26T17:47:57.664041Z",
     "start_time": "2022-09-26T17:47:57.651085Z"
    }
   },
   "outputs": [
    {
     "data": {
      "text/plain": [
       "'d'"
      ]
     },
     "execution_count": 20,
     "metadata": {},
     "output_type": "execute_result"
    }
   ],
   "source": [
    "a_list_string[-1]"
   ]
  },
  {
   "cell_type": "code",
   "execution_count": 24,
   "id": "0d023c9e",
   "metadata": {
    "ExecuteTime": {
     "end_time": "2022-09-26T16:03:14.754725Z",
     "start_time": "2022-09-26T16:03:14.736785Z"
    }
   },
   "outputs": [
    {
     "data": {
      "text/plain": [
       "['a', 'b', 'c']"
      ]
     },
     "execution_count": 24,
     "metadata": {},
     "output_type": "execute_result"
    }
   ],
   "source": [
    "a_list_string[0:3]"
   ]
  },
  {
   "cell_type": "code",
   "execution_count": 21,
   "id": "213c5be7",
   "metadata": {
    "ExecuteTime": {
     "end_time": "2022-09-26T17:48:32.794605Z",
     "start_time": "2022-09-26T17:48:32.778657Z"
    }
   },
   "outputs": [],
   "source": [
    "a_list_int.append(6)"
   ]
  },
  {
   "cell_type": "code",
   "execution_count": 22,
   "id": "6ce0119d",
   "metadata": {
    "ExecuteTime": {
     "end_time": "2022-09-26T17:48:33.171344Z",
     "start_time": "2022-09-26T17:48:33.162374Z"
    }
   },
   "outputs": [
    {
     "data": {
      "text/plain": [
       "[1, 2, 3, 4, 6]"
      ]
     },
     "execution_count": 22,
     "metadata": {},
     "output_type": "execute_result"
    }
   ],
   "source": [
    "a_list_int"
   ]
  },
  {
   "cell_type": "markdown",
   "id": "bc13a7aa",
   "metadata": {},
   "source": [
    "## Tuple"
   ]
  },
  {
   "cell_type": "code",
   "execution_count": 23,
   "id": "fa049c7b",
   "metadata": {
    "ExecuteTime": {
     "end_time": "2022-09-26T17:48:52.590306Z",
     "start_time": "2022-09-26T17:48:52.578346Z"
    }
   },
   "outputs": [
    {
     "data": {
      "text/plain": [
       "(1, 's')"
      ]
     },
     "execution_count": 23,
     "metadata": {},
     "output_type": "execute_result"
    }
   ],
   "source": [
    "(1,'s')"
   ]
  },
  {
   "cell_type": "code",
   "execution_count": 26,
   "id": "4a92ae85",
   "metadata": {
    "ExecuteTime": {
     "end_time": "2022-09-26T16:03:31.733873Z",
     "start_time": "2022-09-26T16:03:31.727893Z"
    }
   },
   "outputs": [
    {
     "data": {
      "text/plain": [
       "tuple"
      ]
     },
     "execution_count": 26,
     "metadata": {},
     "output_type": "execute_result"
    }
   ],
   "source": [
    "type((1,2))"
   ]
  },
  {
   "cell_type": "markdown",
   "id": "f50a5c13",
   "metadata": {},
   "source": [
    "## Set"
   ]
  },
  {
   "cell_type": "code",
   "execution_count": 27,
   "id": "a905aac2",
   "metadata": {
    "ExecuteTime": {
     "end_time": "2022-09-26T16:04:16.841577Z",
     "start_time": "2022-09-26T16:04:16.823637Z"
    }
   },
   "outputs": [
    {
     "data": {
      "text/plain": [
       "{1, 2, 3, 4, 5}"
      ]
     },
     "execution_count": 27,
     "metadata": {},
     "output_type": "execute_result"
    }
   ],
   "source": [
    "b_list = [1,2,3,3,3,4,4,5]\n",
    "set(b_list)"
   ]
  },
  {
   "cell_type": "markdown",
   "id": "723ffe3e",
   "metadata": {},
   "source": [
    "## Dictionary"
   ]
  },
  {
   "cell_type": "code",
   "execution_count": 24,
   "id": "ab6b8642",
   "metadata": {
    "ExecuteTime": {
     "end_time": "2022-09-26T17:49:54.913339Z",
     "start_time": "2022-09-26T17:49:54.905366Z"
    }
   },
   "outputs": [],
   "source": [
    "a_dictionary = dict()"
   ]
  },
  {
   "cell_type": "code",
   "execution_count": 25,
   "id": "9217cfa9",
   "metadata": {
    "ExecuteTime": {
     "end_time": "2022-09-26T17:50:04.671091Z",
     "start_time": "2022-09-26T17:50:04.666108Z"
    }
   },
   "outputs": [],
   "source": [
    "a_dictionary['key1'] = 132"
   ]
  },
  {
   "cell_type": "code",
   "execution_count": 26,
   "id": "a5f97c12",
   "metadata": {
    "ExecuteTime": {
     "end_time": "2022-09-26T17:50:07.446129Z",
     "start_time": "2022-09-26T17:50:07.434169Z"
    }
   },
   "outputs": [
    {
     "data": {
      "text/plain": [
       "{'key1': 132}"
      ]
     },
     "execution_count": 26,
     "metadata": {},
     "output_type": "execute_result"
    }
   ],
   "source": [
    "a_dictionary"
   ]
  },
  {
   "cell_type": "code",
   "execution_count": 32,
   "id": "26dc39ff",
   "metadata": {
    "ExecuteTime": {
     "end_time": "2022-09-26T16:05:37.548037Z",
     "start_time": "2022-09-26T16:05:37.535463Z"
    }
   },
   "outputs": [],
   "source": [
    "a_dictionary['key1'] = 4456"
   ]
  },
  {
   "cell_type": "code",
   "execution_count": 33,
   "id": "f9311be8",
   "metadata": {
    "ExecuteTime": {
     "end_time": "2022-09-26T16:05:42.526835Z",
     "start_time": "2022-09-26T16:05:42.511885Z"
    }
   },
   "outputs": [
    {
     "data": {
      "text/plain": [
       "{'key1': 4456}"
      ]
     },
     "execution_count": 33,
     "metadata": {},
     "output_type": "execute_result"
    }
   ],
   "source": [
    "a_dictionary"
   ]
  },
  {
   "cell_type": "markdown",
   "id": "feb356b5",
   "metadata": {},
   "source": [
    "# Conditional Statement"
   ]
  },
  {
   "cell_type": "markdown",
   "id": "52d7abc6",
   "metadata": {},
   "source": [
    "## if...else... "
   ]
  },
  {
   "cell_type": "code",
   "execution_count": 70,
   "id": "5568fdae",
   "metadata": {
    "ExecuteTime": {
     "end_time": "2022-09-26T16:42:08.629051Z",
     "start_time": "2022-09-26T16:42:08.624067Z"
    }
   },
   "outputs": [
    {
     "data": {
      "text/plain": [
       "[2, 3, 4, 5, 7]"
      ]
     },
     "execution_count": 70,
     "metadata": {},
     "output_type": "execute_result"
    }
   ],
   "source": [
    "a_list_int"
   ]
  },
  {
   "cell_type": "code",
   "execution_count": 35,
   "id": "29c47d8a",
   "metadata": {
    "ExecuteTime": {
     "end_time": "2022-09-26T16:07:03.585613Z",
     "start_time": "2022-09-26T16:07:03.567673Z"
    }
   },
   "outputs": [
    {
     "name": "stdout",
     "output_type": "stream",
     "text": [
      "len < 5\n"
     ]
    }
   ],
   "source": [
    "if len(a_list_int) > 5: \n",
    "    print('len > 5')\n",
    "else: \n",
    "    print('len < 5')"
   ]
  },
  {
   "cell_type": "code",
   "execution_count": 36,
   "id": "940a7a0f",
   "metadata": {
    "ExecuteTime": {
     "end_time": "2022-09-26T16:07:41.217042Z",
     "start_time": "2022-09-26T16:07:41.209069Z"
    }
   },
   "outputs": [
    {
     "name": "stdout",
     "output_type": "stream",
     "text": [
      "len is 4\n"
     ]
    }
   ],
   "source": [
    "if len(a_list_int) > 5: \n",
    "    print('len > 5')\n",
    "elif len(a_list_int) == 4: \n",
    "    print('len is 4')\n",
    "else: \n",
    "    print('len < 5')"
   ]
  },
  {
   "cell_type": "code",
   "execution_count": 37,
   "id": "63e4e9de",
   "metadata": {
    "ExecuteTime": {
     "end_time": "2022-09-26T16:08:23.055716Z",
     "start_time": "2022-09-26T16:08:23.047743Z"
    }
   },
   "outputs": [
    {
     "name": "stdout",
     "output_type": "stream",
     "text": [
      "len is 4\n"
     ]
    }
   ],
   "source": [
    "if len(a_list_int) > 5: \n",
    "    print('len > 5')\n",
    "elif len(a_list_int) == 4: \n",
    "    print('len is 4')\n",
    "elif a_list_int[0] == 1: \n",
    "    print('fist elem is 1')  \n",
    "else: \n",
    "    print('len < 5')"
   ]
  },
  {
   "cell_type": "markdown",
   "id": "3194df64",
   "metadata": {},
   "source": [
    "## for loop"
   ]
  },
  {
   "cell_type": "code",
   "execution_count": 71,
   "id": "2e40dab4",
   "metadata": {
    "ExecuteTime": {
     "end_time": "2022-09-26T16:43:49.834514Z",
     "start_time": "2022-09-26T16:43:49.824548Z"
    }
   },
   "outputs": [
    {
     "data": {
      "text/plain": [
       "[2, 3, 4, 5, 7]"
      ]
     },
     "execution_count": 71,
     "metadata": {},
     "output_type": "execute_result"
    }
   ],
   "source": [
    "a_list_int"
   ]
  },
  {
   "cell_type": "code",
   "execution_count": 44,
   "id": "fb3c5b54",
   "metadata": {
    "ExecuteTime": {
     "end_time": "2022-09-26T16:10:57.227571Z",
     "start_time": "2022-09-26T16:10:57.215611Z"
    }
   },
   "outputs": [
    {
     "name": "stdout",
     "output_type": "stream",
     "text": [
      "1\n",
      "2\n",
      "3\n",
      "4\n",
      "6\n"
     ]
    }
   ],
   "source": [
    "for elem in a_list_int: \n",
    "    print(elem)"
   ]
  },
  {
   "cell_type": "code",
   "execution_count": 72,
   "id": "131b6f4c",
   "metadata": {
    "ExecuteTime": {
     "end_time": "2022-09-26T16:44:35.312806Z",
     "start_time": "2022-09-26T16:44:35.295862Z"
    }
   },
   "outputs": [],
   "source": [
    "for elem in a_list_int: \n",
    "    elem += 1"
   ]
  },
  {
   "cell_type": "code",
   "execution_count": 73,
   "id": "c5f4df8e",
   "metadata": {
    "ExecuteTime": {
     "end_time": "2022-09-26T16:44:39.288200Z",
     "start_time": "2022-09-26T16:44:39.283216Z"
    }
   },
   "outputs": [
    {
     "data": {
      "text/plain": [
       "[2, 3, 4, 5, 7]"
      ]
     },
     "execution_count": 73,
     "metadata": {},
     "output_type": "execute_result"
    }
   ],
   "source": [
    "a_list_int"
   ]
  },
  {
   "cell_type": "code",
   "execution_count": 74,
   "id": "4630ca57",
   "metadata": {
    "ExecuteTime": {
     "end_time": "2022-09-26T16:45:44.681310Z",
     "start_time": "2022-09-26T16:45:44.664425Z"
    }
   },
   "outputs": [],
   "source": [
    "for i in range(len(a_list_int)):\n",
    "    a_list_int[i] += 1"
   ]
  },
  {
   "cell_type": "code",
   "execution_count": 75,
   "id": "d65cc335",
   "metadata": {
    "ExecuteTime": {
     "end_time": "2022-09-26T16:45:45.540336Z",
     "start_time": "2022-09-26T16:45:45.522713Z"
    }
   },
   "outputs": [
    {
     "data": {
      "text/plain": [
       "[3, 4, 5, 6, 8]"
      ]
     },
     "execution_count": 75,
     "metadata": {},
     "output_type": "execute_result"
    }
   ],
   "source": [
    "a_list_int"
   ]
  },
  {
   "cell_type": "markdown",
   "id": "45d4cd4e",
   "metadata": {},
   "source": [
    "## While loop"
   ]
  },
  {
   "cell_type": "code",
   "execution_count": 83,
   "id": "4a3ed842",
   "metadata": {
    "ExecuteTime": {
     "end_time": "2022-09-26T16:57:28.091153Z",
     "start_time": "2022-09-26T16:57:28.081184Z"
    }
   },
   "outputs": [
    {
     "data": {
      "text/plain": [
       "[3, 4, 5, 6, 8]"
      ]
     },
     "execution_count": 83,
     "metadata": {},
     "output_type": "execute_result"
    }
   ],
   "source": [
    "a_list_int"
   ]
  },
  {
   "cell_type": "code",
   "execution_count": 81,
   "id": "060e0aed",
   "metadata": {
    "ExecuteTime": {
     "end_time": "2022-09-26T16:57:18.856574Z",
     "start_time": "2022-09-26T16:57:18.841623Z"
    }
   },
   "outputs": [],
   "source": [
    "i = 0"
   ]
  },
  {
   "cell_type": "code",
   "execution_count": 82,
   "id": "e9369e47",
   "metadata": {
    "ExecuteTime": {
     "end_time": "2022-09-26T16:57:20.859543Z",
     "start_time": "2022-09-26T16:57:20.848579Z"
    },
    "scrolled": true
   },
   "outputs": [
    {
     "name": "stdout",
     "output_type": "stream",
     "text": [
      "3\n",
      "4\n",
      "5\n",
      "6\n",
      "8\n"
     ]
    }
   ],
   "source": [
    "while i <= len(a_list_int)-1:\n",
    "    print(a_list_int[i])\n",
    "    i+=1"
   ]
  },
  {
   "cell_type": "markdown",
   "id": "c8184f8b",
   "metadata": {},
   "source": [
    "# Functions"
   ]
  },
  {
   "cell_type": "markdown",
   "id": "a3dd4219",
   "metadata": {},
   "source": [
    "## Built-in Functions"
   ]
  },
  {
   "cell_type": "code",
   "execution_count": 29,
   "id": "095188b2",
   "metadata": {
    "ExecuteTime": {
     "end_time": "2022-09-26T18:14:21.987328Z",
     "start_time": "2022-09-26T18:14:21.984338Z"
    }
   },
   "outputs": [
    {
     "data": {
      "text/plain": [
       "[1, 2, 3, 4, 6]"
      ]
     },
     "execution_count": 29,
     "metadata": {},
     "output_type": "execute_result"
    }
   ],
   "source": [
    "a_list_int"
   ]
  },
  {
   "cell_type": "code",
   "execution_count": 28,
   "id": "1792155a",
   "metadata": {
    "ExecuteTime": {
     "end_time": "2022-09-26T18:14:04.746687Z",
     "start_time": "2022-09-26T18:14:04.742701Z"
    }
   },
   "outputs": [
    {
     "data": {
      "text/plain": [
       "5"
      ]
     },
     "execution_count": 28,
     "metadata": {},
     "output_type": "execute_result"
    }
   ],
   "source": [
    "len(a_list_int)"
   ]
  },
  {
   "cell_type": "markdown",
   "id": "1cb77135",
   "metadata": {},
   "source": [
    "## Write-your-own Function"
   ]
  },
  {
   "cell_type": "code",
   "execution_count": 52,
   "id": "58431193",
   "metadata": {
    "ExecuteTime": {
     "end_time": "2022-09-26T16:13:42.343875Z",
     "start_time": "2022-09-26T16:13:42.326975Z"
    }
   },
   "outputs": [],
   "source": [
    "def add_one_to_list(a_list):\n",
    "    for i in range(len(a_list)):\n",
    "        a_list[i] += 1\n",
    "    return a_list"
   ]
  },
  {
   "cell_type": "code",
   "execution_count": 53,
   "id": "13d44d72",
   "metadata": {
    "ExecuteTime": {
     "end_time": "2022-09-26T16:14:06.460054Z",
     "start_time": "2022-09-26T16:14:06.447097Z"
    }
   },
   "outputs": [],
   "source": [
    "list1 = [1,2,3,4,5]\n",
    "list2 = [10,11,12,13,14,15,17]"
   ]
  },
  {
   "cell_type": "code",
   "execution_count": 54,
   "id": "27f503f8",
   "metadata": {
    "ExecuteTime": {
     "end_time": "2022-09-26T16:14:12.901727Z",
     "start_time": "2022-09-26T16:14:12.886824Z"
    }
   },
   "outputs": [
    {
     "data": {
      "text/plain": [
       "[2, 3, 4, 5, 6]"
      ]
     },
     "execution_count": 54,
     "metadata": {},
     "output_type": "execute_result"
    }
   ],
   "source": [
    "add_one_to_list(list1)"
   ]
  },
  {
   "cell_type": "code",
   "execution_count": 55,
   "id": "7ac58f36",
   "metadata": {
    "ExecuteTime": {
     "end_time": "2022-09-26T16:14:24.695741Z",
     "start_time": "2022-09-26T16:14:24.686771Z"
    }
   },
   "outputs": [
    {
     "data": {
      "text/plain": [
       "[11, 12, 13, 14, 15, 16, 18]"
      ]
     },
     "execution_count": 55,
     "metadata": {},
     "output_type": "execute_result"
    }
   ],
   "source": [
    "add_one_to_list(list2)"
   ]
  },
  {
   "cell_type": "markdown",
   "id": "0c4da783",
   "metadata": {},
   "source": [
    "# Git & GitHub "
   ]
  },
  {
   "cell_type": "markdown",
   "id": "b68a8474",
   "metadata": {},
   "source": [
    "## Installing Git\n",
    "https://git-scm.com/book/en/v2/Getting-Started-Installing-Git"
   ]
  },
  {
   "cell_type": "markdown",
   "id": "172a5ade",
   "metadata": {},
   "source": [
    "## Registering on GitHub \n",
    "https://github.com/"
   ]
  }
 ],
 "metadata": {
  "kernelspec": {
   "display_name": "Python [conda env:coned] *",
   "language": "python",
   "name": "conda-env-coned-py"
  },
  "language_info": {
   "codemirror_mode": {
    "name": "ipython",
    "version": 3
   },
   "file_extension": ".py",
   "mimetype": "text/x-python",
   "name": "python",
   "nbconvert_exporter": "python",
   "pygments_lexer": "ipython3",
   "version": "3.10.4"
  },
  "toc": {
   "base_numbering": 1,
   "nav_menu": {},
   "number_sections": true,
   "sideBar": true,
   "skip_h1_title": false,
   "title_cell": "Table of Contents",
   "title_sidebar": "Contents",
   "toc_cell": false,
   "toc_position": {},
   "toc_section_display": true,
   "toc_window_display": false
  }
 },
 "nbformat": 4,
 "nbformat_minor": 5
}
